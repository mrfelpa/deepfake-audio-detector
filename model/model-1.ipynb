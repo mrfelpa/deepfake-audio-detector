{
 "cells": [
  {
   "cell_type": "code",
   "execution_count": 3,
   "id": "9a970857",
   "metadata": {},
   "outputs": [
    {
     "name": "stderr",
     "output_type": "stream",
     "text": [
      "2023-11-13 19:34:40.621277: I tensorflow/core/platform/cpu_feature_guard.cc:182] This TensorFlow binary is optimized to use available CPU instructions in performance-critical operations.\n",
      "To enable the following instructions: AVX2 FMA, in other operations, rebuild TensorFlow with the appropriate compiler flags.\n"
     ]
    }
   ],
   "source": [
    "import librosa\n",
    "import tensorflow as tf\n",
    "import numpy as np\n",
    "import os\n",
    "import random"
   ]
  },
  {
   "cell_type": "code",
   "execution_count": 24,
   "id": "d1cfd44c",
   "metadata": {},
   "outputs": [],
   "source": [
    "labels_path = \"/Users/zuriobozuwa/Downloads/LA/ASVspoof2019_LA_cm_protocols/ASVspoof2019.LA.cm.train.trn.txt\"\n",
    "\n",
    "dataset_path = \"/Users/zuriobozuwa/Downloads/LA/ASVspoof2019_LA_train/flac\""
   ]
  },
  {
   "cell_type": "code",
   "execution_count": 17,
   "id": "e2a22d52",
   "metadata": {},
   "outputs": [],
   "source": [
    "N_MELS=91 #Number of mel bands"
   ]
  },
  {
   "cell_type": "code",
   "execution_count": 25,
   "id": "5e1e6b23",
   "metadata": {},
   "outputs": [],
   "source": [
    "#Extract labels into a dictionary\n",
    "labels = {}\n",
    "\n",
    "with open(labels_path, 'r') as labels_file:\n",
    "    label_lines = labels_file.readlines()\n",
    "\n",
    "#Optional: reduce the amount of data that we have\n",
    "#Useful for debugging\n",
    "random.shuffle(label_lines)\n",
    "fraction = 0.001\n",
    "label_lines = label_lines[:int(len(label_lines)*fraction)]\n",
    "\n",
    "#Labelling\n",
    "for line in label_lines:\n",
    "    parts = line.strip().split()\n",
    "    filename = parts[1]\n",
    "    label = 1 if parts[-1] == \"bonafide\" else 0\n",
    "    labels[filename] = label\n",
    "\n",
    "    "
   ]
  },
  {
   "cell_type": "code",
   "execution_count": 27,
   "id": "25a2500a",
   "metadata": {},
   "outputs": [
    {
     "name": "stdout",
     "output_type": "stream",
     "text": [
      "LA_T_6960015 AYOOO 0\n",
      "LA_T_7297093 AYOOO 0\n",
      "LA_T_3139970 AYOOO 0\n",
      "LA_T_4964499 AYOOO 0\n",
      "LA_T_5220491 AYOOO 0\n",
      "LA_T_2705905 AYOOO 0\n",
      "LA_T_9304117 AYOOO 0\n",
      "LA_T_2357070 AYOOO 0\n",
      "LA_T_2191846 AYOOO 0\n",
      "LA_T_8803088 AYOOO 0\n",
      "LA_T_4636566 AYOOO 0\n",
      "LA_T_9984936 AYOOO 0\n",
      "LA_T_4702763 AYOOO 0\n",
      "LA_T_3886583 AYOOO 0\n",
      "LA_T_4124955 AYOOO 1\n",
      "LA_T_6744301 AYOOO 0\n",
      "LA_T_2334320 AYOOO 0\n",
      "LA_T_7153160 AYOOO 0\n",
      "LA_T_9701027 AYOOO 0\n",
      "LA_T_8936519 AYOOO 1\n",
      "LA_T_2122771 AYOOO 0\n",
      "LA_T_1540528 AYOOO 0\n",
      "LA_T_1257953 AYOOO 0\n",
      "LA_T_4927835 AYOOO 0\n",
      "LA_T_4790840 AYOOO 0\n",
      "25/25\r"
     ]
    }
   ],
   "source": [
    "x = []\n",
    "y = []\n",
    "\n",
    "#progress printing\n",
    "m = len(label_lines)\n",
    "i = 1\n",
    "\n",
    "for filename, label in labels.items():\n",
    "    print(filename + \" AYOOO \" + str(label))\n",
    "    filepath = os.path.join(dataset_path, filename + \".flac\")\n",
    "    #print(filepath)\n",
    "    # Load the audio file\n",
    "    audio, _ = librosa.load(filepath, duration=5)\n",
    "\n",
    "    # mel-frequency spectogram\n",
    "    mel_spectrogram = librosa.feature.melspectrogram(y=audio, n_mels=N_MELS)\n",
    "    mel_spectrogram = librosa.power_to_db(mel_spectrogram, ref=np.max)\n",
    "\n",
    "    # Ensure all spectrograms have the same width (time steps)\n",
    "    max_time_steps = 150\n",
    "    if mel_spectrogram.shape[1] < max_time_steps:\n",
    "        mel_spectrogram = np.pad(mel_spectrogram, ((0, 0), (0, max_time_steps - mel_spectrogram.shape[1])), mode='constant')\n",
    "    else:\n",
    "        mel_spectrogram = mel_spectrogram[:, :max_time_steps]\n",
    "\n",
    "    x.append(mel_spectrogram)\n",
    "    y.append(label)\n",
    "    \n",
    "    print(str(i) + \"/\" + str(m), end=\"\\r\")\n",
    "    i+=1\n",
    "\n",
    "x = np.array(x)\n",
    "y = np.array(y)\n"
   ]
  },
  {
   "cell_type": "code",
   "execution_count": 28,
   "id": "84b9de50",
   "metadata": {},
   "outputs": [],
   "source": [
    "y_encoded = tf.keras.utils.to_categorical(y,2)"
   ]
  },
  {
   "cell_type": "code",
   "execution_count": 29,
   "id": "675159dd-f45d-4f74-ac2a-ebc17b421c55",
   "metadata": {},
   "outputs": [
    {
     "name": "stdout",
     "output_type": "stream",
     "text": [
      "[[1. 0.]\n",
      " [1. 0.]\n",
      " [1. 0.]\n",
      " [1. 0.]\n",
      " [1. 0.]\n",
      " [1. 0.]\n",
      " [1. 0.]\n",
      " [1. 0.]\n",
      " [1. 0.]\n",
      " [1. 0.]\n",
      " [1. 0.]\n",
      " [1. 0.]\n",
      " [1. 0.]\n",
      " [1. 0.]\n",
      " [0. 1.]\n",
      " [1. 0.]\n",
      " [1. 0.]\n",
      " [1. 0.]\n",
      " [1. 0.]\n",
      " [0. 1.]\n",
      " [1. 0.]\n",
      " [1. 0.]\n",
      " [1. 0.]\n",
      " [1. 0.]\n",
      " [1. 0.]]\n"
     ]
    }
   ],
   "source": [
    "print(y_encoded)"
   ]
  },
  {
   "cell_type": "code",
   "execution_count": 16,
   "id": "d89d6b54",
   "metadata": {},
   "outputs": [
    {
     "data": {
      "text/plain": [
       "(25380, 91, 150)"
      ]
     },
     "execution_count": 16,
     "metadata": {},
     "output_type": "execute_result"
    }
   ],
   "source": [
    "x.shape"
   ]
  },
  {
   "cell_type": "code",
   "execution_count": 17,
   "id": "6ab2f694",
   "metadata": {},
   "outputs": [
    {
     "data": {
      "text/plain": [
       "25380"
      ]
     },
     "execution_count": 17,
     "metadata": {},
     "output_type": "execute_result"
    }
   ],
   "source": [
    "len(y)"
   ]
  },
  {
   "cell_type": "code",
   "execution_count": 18,
   "id": "409c28be",
   "metadata": {},
   "outputs": [],
   "source": [
    "#Split data into training and validation sets\n",
    "\n",
    "split_index = int(0.8 * len(y))\n",
    "\n",
    "x_train, x_val = x[:split_index], x[split_index:]\n",
    "y_train, y_val = y_encoded[:split_index], y_encoded[split_index:]"
   ]
  },
  {
   "cell_type": "code",
   "execution_count": 5,
   "id": "25a1c2bd",
   "metadata": {},
   "outputs": [
    {
     "data": {
      "text/plain": [
       "TensorShape([None, 91, 150, 1])"
      ]
     },
     "execution_count": 5,
     "metadata": {},
     "output_type": "execute_result"
    }
   ],
   "source": [
    "input_shape = (N_MELS, 150, 1)\n",
    "model_input = tf.keras.layers.Input(shape=input_shape)\n",
    "model_input.shape"
   ]
  },
  {
   "cell_type": "code",
   "execution_count": 6,
   "id": "36894633",
   "metadata": {},
   "outputs": [
    {
     "data": {
      "text/plain": [
       "TensorShape([None, 89, 148, 32])"
      ]
     },
     "execution_count": 6,
     "metadata": {},
     "output_type": "execute_result"
    }
   ],
   "source": [
    "M = tf.keras.layers.Conv2D(filters=32, kernel_size=(3,3), activation='relu')(model_input)\n",
    "M.shape"
   ]
  },
  {
   "cell_type": "code",
   "execution_count": 7,
   "id": "76ed0fc1",
   "metadata": {},
   "outputs": [
    {
     "data": {
      "text/plain": [
       "TensorShape([None, 44, 74, 32])"
      ]
     },
     "execution_count": 7,
     "metadata": {},
     "output_type": "execute_result"
    }
   ],
   "source": [
    "M = tf.keras.layers.MaxPooling2D(pool_size=(2,2))(M)\n",
    "M.shape"
   ]
  },
  {
   "cell_type": "code",
   "execution_count": 8,
   "id": "4d8e6637",
   "metadata": {},
   "outputs": [
    {
     "data": {
      "text/plain": [
       "TensorShape([None, 42, 72, 64])"
      ]
     },
     "execution_count": 8,
     "metadata": {},
     "output_type": "execute_result"
    }
   ],
   "source": [
    "M = tf.keras.layers.Conv2D(filters=64, kernel_size=(3,3), activation='relu')(M)\n",
    "M.shape"
   ]
  },
  {
   "cell_type": "code",
   "execution_count": 9,
   "id": "f47d9f58",
   "metadata": {},
   "outputs": [
    {
     "data": {
      "text/plain": [
       "TensorShape([None, 21, 36, 64])"
      ]
     },
     "execution_count": 9,
     "metadata": {},
     "output_type": "execute_result"
    }
   ],
   "source": [
    "M = tf.keras.layers.MaxPooling2D(pool_size=(2,2))(M)\n",
    "M.shape"
   ]
  },
  {
   "cell_type": "code",
   "execution_count": 10,
   "id": "1eb1b24e",
   "metadata": {},
   "outputs": [
    {
     "data": {
      "text/plain": [
       "TensorShape([None, 48384])"
      ]
     },
     "execution_count": 10,
     "metadata": {},
     "output_type": "execute_result"
    }
   ],
   "source": [
    "M = tf.keras.layers.Flatten()(M)\n",
    "M.shape"
   ]
  },
  {
   "cell_type": "code",
   "execution_count": 11,
   "id": "da383462",
   "metadata": {},
   "outputs": [
    {
     "data": {
      "text/plain": [
       "TensorShape([None, 128])"
      ]
     },
     "execution_count": 11,
     "metadata": {},
     "output_type": "execute_result"
    }
   ],
   "source": [
    "M = tf.keras.layers.Dense(units=128, activation='relu')(M)\n",
    "M.shape"
   ]
  },
  {
   "cell_type": "code",
   "execution_count": 12,
   "id": "fa189c7f",
   "metadata": {},
   "outputs": [
    {
     "data": {
      "text/plain": [
       "TensorShape([None, 128])"
      ]
     },
     "execution_count": 12,
     "metadata": {},
     "output_type": "execute_result"
    }
   ],
   "source": [
    "M = tf.keras.layers.Dropout(rate=0.5)(M)\n",
    "M.shape"
   ]
  },
  {
   "cell_type": "code",
   "execution_count": 13,
   "id": "6dff5d3e",
   "metadata": {},
   "outputs": [],
   "source": [
    "model_output = tf.keras.layers.Dense(units=2, activation='softmax')(M)"
   ]
  },
  {
   "cell_type": "code",
   "execution_count": 14,
   "id": "a1705071",
   "metadata": {},
   "outputs": [],
   "source": [
    "model = tf.keras.models.Model(inputs=model_input, outputs=model_output)"
   ]
  },
  {
   "cell_type": "code",
   "execution_count": 15,
   "id": "c15fcac4-b3fb-43f4-840e-db0d64b47f43",
   "metadata": {},
   "outputs": [
    {
     "data": {
      "text/plain": [
       "keras.src.engine.functional.Functional"
      ]
     },
     "execution_count": 15,
     "metadata": {},
     "output_type": "execute_result"
    }
   ],
   "source": [
    "type(model)"
   ]
  },
  {
   "cell_type": "code",
   "execution_count": 72,
   "id": "1c8dbe92",
   "metadata": {},
   "outputs": [],
   "source": [
    "model.compile(optimizer='adam', loss='categorical_crossentropy', metrics=['accuracy'])"
   ]
  },
  {
   "cell_type": "code",
   "execution_count": 73,
   "id": "2b7440f1",
   "metadata": {},
   "outputs": [
    {
     "name": "stderr",
     "output_type": "stream",
     "text": [
      "2023-11-11 16:33:51.965597: W tensorflow/core/framework/cpu_allocator_impl.cc:82] Allocation of 1108598400 exceeds 10% of free system memory.\n"
     ]
    },
    {
     "name": "stdout",
     "output_type": "stream",
     "text": [
      "Epoch 1/22\n",
      "635/635 [==============================] - 24s 36ms/step - loss: 0.9419 - accuracy: 0.8982 - val_loss: 0.2173 - val_accuracy: 0.9066\n",
      "Epoch 2/22\n",
      "635/635 [==============================] - 21s 34ms/step - loss: 0.1963 - accuracy: 0.9189 - val_loss: 0.1880 - val_accuracy: 0.9332\n",
      "Epoch 3/22\n",
      "635/635 [==============================] - 21s 34ms/step - loss: 0.1493 - accuracy: 0.9427 - val_loss: 0.1295 - val_accuracy: 0.9539\n",
      "Epoch 4/22\n",
      "635/635 [==============================] - 22s 34ms/step - loss: 0.1139 - accuracy: 0.9564 - val_loss: 0.1111 - val_accuracy: 0.9590\n",
      "Epoch 5/22\n",
      "635/635 [==============================] - 22s 34ms/step - loss: 0.0820 - accuracy: 0.9684 - val_loss: 0.1426 - val_accuracy: 0.9464\n",
      "Epoch 6/22\n",
      "635/635 [==============================] - 22s 34ms/step - loss: 0.0690 - accuracy: 0.9737 - val_loss: 0.1156 - val_accuracy: 0.9679\n",
      "Epoch 7/22\n",
      "635/635 [==============================] - 21s 34ms/step - loss: 0.0514 - accuracy: 0.9812 - val_loss: 0.0803 - val_accuracy: 0.9768\n",
      "Epoch 8/22\n",
      "635/635 [==============================] - 22s 34ms/step - loss: 0.0399 - accuracy: 0.9856 - val_loss: 0.0693 - val_accuracy: 0.9811\n",
      "Epoch 9/22\n",
      "635/635 [==============================] - 21s 34ms/step - loss: 0.0385 - accuracy: 0.9863 - val_loss: 0.0813 - val_accuracy: 0.9722\n",
      "Epoch 10/22\n",
      "635/635 [==============================] - 21s 34ms/step - loss: 0.0310 - accuracy: 0.9888 - val_loss: 0.0545 - val_accuracy: 0.9858\n",
      "Epoch 11/22\n",
      "635/635 [==============================] - 21s 34ms/step - loss: 0.0243 - accuracy: 0.9911 - val_loss: 0.0419 - val_accuracy: 0.9886\n",
      "Epoch 12/22\n",
      "635/635 [==============================] - 21s 33ms/step - loss: 0.0236 - accuracy: 0.9923 - val_loss: 0.0460 - val_accuracy: 0.9882\n",
      "Epoch 13/22\n",
      "635/635 [==============================] - 21s 33ms/step - loss: 0.0191 - accuracy: 0.9931 - val_loss: 0.0549 - val_accuracy: 0.9886\n",
      "Epoch 14/22\n",
      "635/635 [==============================] - 21s 33ms/step - loss: 0.0212 - accuracy: 0.9928 - val_loss: 0.0512 - val_accuracy: 0.9903\n",
      "Epoch 15/22\n",
      "635/635 [==============================] - 21s 34ms/step - loss: 0.0144 - accuracy: 0.9950 - val_loss: 0.0682 - val_accuracy: 0.9884\n",
      "Epoch 16/22\n",
      "635/635 [==============================] - 21s 34ms/step - loss: 0.0694 - accuracy: 0.9817 - val_loss: 0.0444 - val_accuracy: 0.9890\n",
      "Epoch 17/22\n",
      "635/635 [==============================] - 21s 34ms/step - loss: 0.0165 - accuracy: 0.9942 - val_loss: 0.0457 - val_accuracy: 0.9913\n",
      "Epoch 18/22\n",
      "635/635 [==============================] - 22s 34ms/step - loss: 0.0105 - accuracy: 0.9968 - val_loss: 0.0603 - val_accuracy: 0.9905\n",
      "Epoch 19/22\n",
      "635/635 [==============================] - 21s 34ms/step - loss: 0.0182 - accuracy: 0.9935 - val_loss: 0.0477 - val_accuracy: 0.9900\n",
      "Epoch 20/22\n",
      "635/635 [==============================] - 21s 33ms/step - loss: 0.0186 - accuracy: 0.9937 - val_loss: 0.0457 - val_accuracy: 0.9907\n",
      "Epoch 21/22\n",
      "635/635 [==============================] - 21s 33ms/step - loss: 0.0107 - accuracy: 0.9965 - val_loss: 0.0569 - val_accuracy: 0.9917\n",
      "Epoch 22/22\n",
      "635/635 [==============================] - 21s 33ms/step - loss: 0.0089 - accuracy: 0.9967 - val_loss: 0.0510 - val_accuracy: 0.9911\n"
     ]
    },
    {
     "data": {
      "text/plain": [
       "<keras.callbacks.History at 0x7f8b7fd60eb0>"
      ]
     },
     "execution_count": 73,
     "metadata": {},
     "output_type": "execute_result"
    }
   ],
   "source": [
    "model.fit(x_train, y_train, epochs=22, validation_data=(x_val,y_val))\n",
    "#TODO Batches??"
   ]
  },
  {
   "cell_type": "code",
   "execution_count": 74,
   "id": "8c1b4c9d",
   "metadata": {},
   "outputs": [],
   "source": [
    "model.save(\"model-1.keras\")"
   ]
  },
  {
   "cell_type": "code",
   "execution_count": null,
   "id": "611933e3",
   "metadata": {},
   "outputs": [],
   "source": []
  }
 ],
 "metadata": {
  "kernelspec": {
   "display_name": "Python 3 (ipykernel)",
   "language": "python",
   "name": "python3"
  },
  "language_info": {
   "codemirror_mode": {
    "name": "ipython",
    "version": 3
   },
   "file_extension": ".py",
   "mimetype": "text/x-python",
   "name": "python",
   "nbconvert_exporter": "python",
   "pygments_lexer": "ipython3",
   "version": "3.10.5"
  }
 },
 "nbformat": 4,
 "nbformat_minor": 5
}
